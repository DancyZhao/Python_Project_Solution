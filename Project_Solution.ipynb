{
 "cells": [
  {
   "cell_type": "markdown",
   "id": "0c2ad690",
   "metadata": {},
   "source": [
    "# Project Description\n",
    "This dataset `HealthEouipmentSales.csv` represents data of customers purchasing health equipment from a retail store. it contains the following variables `EquipmentType`, `Age`, `Gender`, `Education`, `MembershipStatus`, `UsageFrequency`,`HealthRating`, `AnnualIncome`, and `Distance`.\n",
    "\n",
    "* `EquipmentType`:the type of health equipment purchased\n",
    "* `Age`: age of the customer in years\n",
    "* `Gender`: gender of the customer\n",
    "* `Education`: number of years of education completed by the customer\n",
    "* `MembershipStatus`: whether the customer has a membership plan (e.g., Single, Family)\n",
    "* `UsageFrequency`: the number of times per week the equipment is expected to be used\n",
    "* `HealthRating`: self-rated health score of the customer (5 - very healthy, 1 - unhealthy)\n",
    "* `AnnualIncome`: annual income of the customer in dollars\n",
    "* `Distance`: the expected distance (in miles) the customer plans to use the equipment\n",
    "\n",
    "\n",
    "\n",
    "The project focuses on two parts:   \n",
    "1.Process and analyze the data   \n",
    "2.Create visualizations"
   ]
  },
  {
   "cell_type": "markdown",
   "id": "eb7d38bf",
   "metadata": {},
   "source": [
    "## Questions"
   ]
  },
  {
   "cell_type": "code",
   "execution_count": 1,
   "id": "4636d070",
   "metadata": {
    "ExecuteTime": {
     "end_time": "2024-12-09T15:24:23.435835Z",
     "start_time": "2024-12-09T15:24:22.224429Z"
    }
   },
   "outputs": [],
   "source": [
    "import pandas as pd\n",
    "import matplotlib.pyplot as plt"
   ]
  },
  {
   "cell_type": "code",
   "execution_count": 2,
   "id": "89d15464",
   "metadata": {
    "ExecuteTime": {
     "end_time": "2024-12-09T15:24:25.363121Z",
     "start_time": "2024-12-09T15:24:23.438402Z"
    }
   },
   "outputs": [
    {
     "name": "stdout",
     "output_type": "stream",
     "text": [
      "Defaulting to user installation because normal site-packages is not writeable\n",
      "Requirement already satisfied: scipy in /home/1002_2330006274/.local/lib/python3.8/site-packages (1.10.1)\n",
      "Requirement already satisfied: numpy<1.27.0,>=1.19.5 in /usr/local/lib/python3.8/dist-packages (from scipy) (1.22.2)\n",
      "\u001b[33mWARNING: You are using pip version 21.3.1; however, version 24.3.1 is available.\n",
      "You should consider upgrading via the '/usr/bin/python3 -m pip install --upgrade pip' command.\u001b[0m\n",
      "Note: you may need to restart the kernel to use updated packages.\n"
     ]
    }
   ],
   "source": [
    "pip install scipy"
   ]
  },
  {
   "cell_type": "code",
   "execution_count": 3,
   "id": "2e6e006c",
   "metadata": {
    "ExecuteTime": {
     "end_time": "2024-12-09T15:24:25.385294Z",
     "start_time": "2024-12-09T15:24:25.365699Z"
    }
   },
   "outputs": [
    {
     "data": {
      "text/html": [
       "<div>\n",
       "<style scoped>\n",
       "    .dataframe tbody tr th:only-of-type {\n",
       "        vertical-align: middle;\n",
       "    }\n",
       "\n",
       "    .dataframe tbody tr th {\n",
       "        vertical-align: top;\n",
       "    }\n",
       "\n",
       "    .dataframe thead th {\n",
       "        text-align: right;\n",
       "    }\n",
       "</style>\n",
       "<table border=\"1\" class=\"dataframe\">\n",
       "  <thead>\n",
       "    <tr style=\"text-align: right;\">\n",
       "      <th></th>\n",
       "      <th>EquipmentType</th>\n",
       "      <th>Age</th>\n",
       "      <th>Gender</th>\n",
       "      <th>Education</th>\n",
       "      <th>MembershipStatus</th>\n",
       "      <th>UsageFrequency</th>\n",
       "      <th>HealthRating</th>\n",
       "      <th>AnnualIncome</th>\n",
       "      <th>Distance</th>\n",
       "    </tr>\n",
       "  </thead>\n",
       "  <tbody>\n",
       "    <tr>\n",
       "      <th>0</th>\n",
       "      <td>Exercise Bike</td>\n",
       "      <td>60</td>\n",
       "      <td>Female</td>\n",
       "      <td>14</td>\n",
       "      <td>None</td>\n",
       "      <td>5</td>\n",
       "      <td>5</td>\n",
       "      <td>87652</td>\n",
       "      <td>163</td>\n",
       "    </tr>\n",
       "    <tr>\n",
       "      <th>1</th>\n",
       "      <td>Rowing Machine</td>\n",
       "      <td>57</td>\n",
       "      <td>Male</td>\n",
       "      <td>13</td>\n",
       "      <td>Family</td>\n",
       "      <td>3</td>\n",
       "      <td>1</td>\n",
       "      <td>54994</td>\n",
       "      <td>97</td>\n",
       "    </tr>\n",
       "    <tr>\n",
       "      <th>2</th>\n",
       "      <td>Elliptical</td>\n",
       "      <td>33</td>\n",
       "      <td>Male</td>\n",
       "      <td>19</td>\n",
       "      <td>Single</td>\n",
       "      <td>5</td>\n",
       "      <td>4</td>\n",
       "      <td>66761</td>\n",
       "      <td>408</td>\n",
       "    </tr>\n",
       "    <tr>\n",
       "      <th>3</th>\n",
       "      <td>Treadmill</td>\n",
       "      <td>46</td>\n",
       "      <td>Female</td>\n",
       "      <td>16</td>\n",
       "      <td>Single</td>\n",
       "      <td>1</td>\n",
       "      <td>1</td>\n",
       "      <td>147388</td>\n",
       "      <td>150</td>\n",
       "    </tr>\n",
       "    <tr>\n",
       "      <th>4</th>\n",
       "      <td>Exercise Bike</td>\n",
       "      <td>45</td>\n",
       "      <td>Female</td>\n",
       "      <td>16</td>\n",
       "      <td>None</td>\n",
       "      <td>7</td>\n",
       "      <td>3</td>\n",
       "      <td>96194</td>\n",
       "      <td>172</td>\n",
       "    </tr>\n",
       "  </tbody>\n",
       "</table>\n",
       "</div>"
      ],
      "text/plain": [
       "    EquipmentType  Age  Gender  Education MembershipStatus  UsageFrequency  \\\n",
       "0   Exercise Bike   60  Female         14             None               5   \n",
       "1  Rowing Machine   57    Male         13           Family               3   \n",
       "2      Elliptical   33    Male         19           Single               5   \n",
       "3       Treadmill   46  Female         16           Single               1   \n",
       "4   Exercise Bike   45  Female         16             None               7   \n",
       "\n",
       "   HealthRating  AnnualIncome  Distance  \n",
       "0             5         87652       163  \n",
       "1             1         54994        97  \n",
       "2             4         66761       408  \n",
       "3             1        147388       150  \n",
       "4             3         96194       172  "
      ]
     },
     "execution_count": 3,
     "metadata": {},
     "output_type": "execute_result"
    }
   ],
   "source": [
    "# This is your dataset.\n",
    "data = pd.read_csv(\"HealthEquipmentSales.csv\")\n",
    "data.head()"
   ]
  },
  {
   "cell_type": "code",
   "execution_count": 4,
   "id": "b09833cf",
   "metadata": {
    "ExecuteTime": {
     "end_time": "2024-12-09T15:24:25.389569Z",
     "start_time": "2024-12-09T15:24:25.386698Z"
    }
   },
   "outputs": [
    {
     "name": "stdout",
     "output_type": "stream",
     "text": [
      "100\n"
     ]
    }
   ],
   "source": [
    "# 1. How many records are there in the dataset?\n",
    "    #YOUR CODE HERE\n",
    "a1=len(data)\n",
    "print(a1)"
   ]
  },
  {
   "cell_type": "code",
   "execution_count": 5,
   "id": "8ed2393c",
   "metadata": {
    "ExecuteTime": {
     "end_time": "2024-12-09T15:24:25.399393Z",
     "start_time": "2024-12-09T15:24:25.391835Z"
    }
   },
   "outputs": [
    {
     "name": "stdout",
     "output_type": "stream",
     "text": [
      "5\n"
     ]
    }
   ],
   "source": [
    "# 2. How many unique types of equipment are in the dataset?\n",
    "    #YOUR CODE HERE\n",
    "a2=len(set(data['EquipmentType'].tolist()))\n",
    "print(a2)"
   ]
  },
  {
   "cell_type": "code",
   "execution_count": 6,
   "id": "1675baa9",
   "metadata": {
    "ExecuteTime": {
     "end_time": "2024-12-09T15:24:25.818036Z",
     "start_time": "2024-12-09T15:24:25.400754Z"
    },
    "scrolled": true
   },
   "outputs": [
    {
     "name": "stdout",
     "output_type": "stream",
     "text": [
      "47\n"
     ]
    }
   ],
   "source": [
    "# 3. What is the largest age difference in the dataset (maximum age - minimum age)?\n",
    "    #YOUR CODE HERE\n",
    "from scipy import stats\n",
    "age_max = data['Age'].max()\n",
    "age_min = data['Age'].min()\n",
    "a3 = age_max - age_min \n",
    "print(a3)"
   ]
  },
  {
   "cell_type": "code",
   "execution_count": 7,
   "id": "5ff66cb2",
   "metadata": {
    "ExecuteTime": {
     "end_time": "2024-12-09T15:24:25.825817Z",
     "start_time": "2024-12-09T15:24:25.819851Z"
    }
   },
   "outputs": [
    {
     "name": "stdout",
     "output_type": "stream",
     "text": [
      "0.6666666666666666\n"
     ]
    }
   ],
   "source": [
    "# 4. What is the ratio of 'Male' to 'Female' in the column 'Gender' (Male/Female)?\n",
    "    #YOUR CODE HERE\n",
    "try:\n",
    "    male = len(data[data['Gender'] == 'Male'])\n",
    "    female = len(data[data['Gender'] == 'Female'])\n",
    "    a4 = male / female\n",
    "    print(a4)\n",
    "except:\n",
    "    raise ZeroDivisionError()"
   ]
  },
  {
   "cell_type": "code",
   "execution_count": 8,
   "id": "84bd16a4",
   "metadata": {
    "ExecuteTime": {
     "end_time": "2024-12-09T15:24:25.836620Z",
     "start_time": "2024-12-09T15:24:25.827704Z"
    }
   },
   "outputs": [
    {
     "name": "stdout",
     "output_type": "stream",
     "text": [
      "14.45\n"
     ]
    }
   ],
   "source": [
    "# 5. What is the average education level (in years) of the customers?\n",
    "    #YOUR CODE HERE\n",
    "a5 = data['Education'].mean()\n",
    "print(a5)"
   ]
  },
  {
   "cell_type": "code",
   "execution_count": 9,
   "id": "8ddbdf68",
   "metadata": {
    "ExecuteTime": {
     "end_time": "2024-12-09T15:24:25.846903Z",
     "start_time": "2024-12-09T15:24:25.838219Z"
    }
   },
   "outputs": [
    {
     "name": "stdout",
     "output_type": "stream",
     "text": [
      "37\n"
     ]
    }
   ],
   "source": [
    "# 6.How many customers have a family membership?\n",
    "    #YOUR CODE HERE\n",
    "a6 = len(data[data['MembershipStatus'] == 'Family'])\n",
    "print(a6)"
   ]
  },
  {
   "cell_type": "code",
   "execution_count": 10,
   "id": "2fd59dcb",
   "metadata": {
    "ExecuteTime": {
     "end_time": "2024-12-09T15:24:25.856590Z",
     "start_time": "2024-12-09T15:24:25.848531Z"
    }
   },
   "outputs": [
    {
     "name": "stdout",
     "output_type": "stream",
     "text": [
      "4.02\n"
     ]
    }
   ],
   "source": [
    "# 7. What is the average usage frequency of the equipment per week?\n",
    "    #YOUR CODE HERE\n",
    "a7 = data['UsageFrequency'].mean()\n",
    "print(a7)"
   ]
  },
  {
   "cell_type": "code",
   "execution_count": 11,
   "id": "2d8bbe9b",
   "metadata": {
    "ExecuteTime": {
     "end_time": "2024-12-09T15:24:25.866641Z",
     "start_time": "2024-12-09T15:24:25.858232Z"
    }
   },
   "outputs": [
    {
     "name": "stdout",
     "output_type": "stream",
     "text": [
      "0.22\n"
     ]
    }
   ],
   "source": [
    "# 8. What percentage of customers rated their health as very healthy (score of 5)? (in float, e.g. 0.15)\n",
    "    #YOUR CODE HERE\n",
    "try:\n",
    "    a8=len(data[data['HealthRating'] == 5])/a1\n",
    "    print(a8)\n",
    "except:\n",
    "    raise ZeroDivisionError()      "
   ]
  },
  {
   "cell_type": "code",
   "execution_count": 12,
   "id": "4272e5dd",
   "metadata": {
    "ExecuteTime": {
     "end_time": "2024-12-09T15:24:25.879903Z",
     "start_time": "2024-12-09T15:24:25.868028Z"
    }
   },
   "outputs": [
    {
     "name": "stdout",
     "output_type": "stream",
     "text": [
      "149638\n"
     ]
    }
   ],
   "source": [
    "# 9. What is the highest annual income in the dataset?\n",
    "    #YOUR CODE HERE\n",
    "a9 = data['AnnualIncome'].max()\n",
    "print(a9)   "
   ]
  },
  {
   "cell_type": "code",
   "execution_count": 13,
   "id": "eb740fe0",
   "metadata": {
    "ExecuteTime": {
     "end_time": "2024-12-09T15:24:25.890939Z",
     "start_time": "2024-12-09T15:24:25.881502Z"
    }
   },
   "outputs": [
    {
     "name": "stdout",
     "output_type": "stream",
     "text": [
      "63\n"
     ]
    }
   ],
   "source": [
    "# 10. How many customers expect to use their equipment for more than 200 miles (200 not included)?\n",
    "    #YOUR CODE HERE\n",
    "a10 = len(data[data['Distance'] > 200])\n",
    "print(a10)    "
   ]
  },
  {
   "cell_type": "code",
   "execution_count": 14,
   "id": "8be89319",
   "metadata": {
    "ExecuteTime": {
     "end_time": "2024-12-09T15:24:25.902193Z",
     "start_time": "2024-12-09T15:24:25.893481Z"
    }
   },
   "outputs": [
    {
     "name": "stdout",
     "output_type": "stream",
     "text": [
      "{'1': 100, '2': 5, '3': 47, '4': 0.6666666666666666, '5': 14.45, '6': 37, '7': 4.02, '8': 0.22, '9': 149638, '10': 63}\n"
     ]
    }
   ],
   "source": [
    "# Write all your answers in a dictionary named answers.\n",
    "# This dictionary must have keys `\"1\", \"2\", \"3\", ... \"10\"` and  `a1, a2, a3, ... a10` respectively.\n",
    "# (e.g., a1 is the variable storing the answer to question 1)\n",
    "\n",
    "#YOUR CODE HERE\n",
    "answers = {}\n",
    "answers[\"1\"] = a1\n",
    "answers[\"2\"] = a2\n",
    "answers[\"3\"] = a3\n",
    "answers[\"4\"] = a4\n",
    "answers[\"5\"] = a5\n",
    "answers[\"6\"] = a6\n",
    "answers[\"7\"] = a7\n",
    "answers[\"8\"] = a8\n",
    "answers[\"9\"] = a9\n",
    "answers[\"10\"] = a10\n",
    "\n",
    "print(answers)"
   ]
  },
  {
   "cell_type": "code",
   "execution_count": 15,
   "id": "74f8f8ff",
   "metadata": {
    "ExecuteTime": {
     "end_time": "2024-12-09T15:24:25.910529Z",
     "start_time": "2024-12-09T15:24:25.903767Z"
    }
   },
   "outputs": [],
   "source": [
    "# This code should run without errors\n",
    "try:\n",
    "    answers[\"1\"]\n",
    "except:\n",
    "    raise NotImplementedError()"
   ]
  },
  {
   "cell_type": "markdown",
   "id": "e513cf84",
   "metadata": {},
   "source": [
    "## Visualization"
   ]
  },
  {
   "cell_type": "code",
   "execution_count": 16,
   "id": "a44c22b0",
   "metadata": {
    "ExecuteTime": {
     "end_time": "2024-12-09T15:24:26.034083Z",
     "start_time": "2024-12-09T15:24:25.912024Z"
    },
    "scrolled": true
   },
   "outputs": [
    {
     "data": {
      "image/png": "[encoded data removed]",
      "text/plain": [
       "<Figure size 576x576 with 1 Axes>"
      ]
     },
     "metadata": {},
     "output_type": "display_data"
    }
   ],
   "source": [
    "# 1. Create a pie chart showing the distribution of equipment types in the dataset.\n",
    "    #YOUR CODE HERE\n",
    "data['EquipmentType'].value_counts().plot(kind='pie',autopct='%1.1f%%',figsize=(8,8))\n",
    "\n",
    "plt.ylabel('')\n",
    "plt.show()\n"
   ]
  },
  {
   "cell_type": "code",
   "execution_count": 17,
   "id": "42bf9a37",
   "metadata": {
    "ExecuteTime": {
     "end_time": "2024-12-09T15:24:26.271092Z",
     "start_time": "2024-12-09T15:24:26.036048Z"
    }
   },
   "outputs": [
    {
     "data": {
      "image/png": "[encoded data removed]",
      "text/plain": [
       "<Figure size 720x432 with 1 Axes>"
      ]
     },
     "metadata": {
      "needs_background": "light"
     },
     "output_type": "display_data"
    }
   ],
   "source": [
    "# 2. Create a bar chart showing the distribution of customer health ratings.\n",
    "    #YOUR CODE HERE\n",
    "import math\n",
    "\n",
    "plt.figure(figsize=(10, 6))\n",
    "\n",
    "\n",
    "#According to the square root rule\n",
    "k = math.sqrt(a1)\n",
    "k = int(k)\n",
    "\n",
    "\n",
    "plt.hist(data['HealthRating'], bins=k, edgecolor='black')\n",
    "plt.title('Distribution of HealthRating')\n",
    "plt.xlabel('HealthRating')\n",
    "plt.ylabel('Frequency')\n",
    "plt.grid(True)\n",
    "plt.show()\n"
   ]
  },
  {
   "cell_type": "code",
   "execution_count": 19,
   "id": "b4da5300",
   "metadata": {
    "ExecuteTime": {
     "end_time": "2024-12-09T15:24:54.187366Z",
     "start_time": "2024-12-09T15:24:54.034924Z"
    },
    "scrolled": true
   },
   "outputs": [
    {
     "data": {
      "image/png": "[encoded data removed]",
      "text/plain": [
       "<Figure size 720x360 with 1 Axes>"
      ]
     },
     "metadata": {
      "needs_background": "light"
     },
     "output_type": "display_data"
    },
    {
     "name": "stdout",
     "output_type": "stream",
     "text": [
      "Membership Status: None\n",
      "Z-Test:1.1889081799641448, P-Value:0.23447580089487674\n",
      "There is no significant difference in income between males and females.\n",
      "Membership Status: Family\n",
      "Z-Test:0.05618273977861403, P-Value:0.9551962311039659\n",
      "There is no significant difference in income between males and females.\n",
      "Membership Status: Single\n",
      "Z-Test:-0.39950736318786373, P-Value:0.6895193993732129\n",
      "There is no significant difference in income between males and females.\n"
     ]
    }
   ],
   "source": [
    "# 3.Draw a horizontal bar plot showing membership status (on the y-axis) and average annual income (on the x-axis), with genderdistinction.\n",
    "    #YOUR CODE HERE\n",
    "import numpy as np\n",
    "from statsmodels.stats.weightstats import ztest\n",
    "data['AnnualIncome'] = pd.to_numeric(data['AnnualIncome'], errors='coerce') # Error data is transferred to None\n",
    "\n",
    "data = data.dropna(subset=['AnnualIncome']) # delete None\n",
    "\n",
    "grouped = data.groupby(['MembershipStatus', 'Gender'])['AnnualIncome'].mean().unstack() # MultiIndex\n",
    "\n",
    "grouped.plot(kind='barh', stacked=False, figsize=(10, 5))\n",
    "\n",
    "plt.title('Average Annual Income by Membership Status and Gender')\n",
    "plt.xlabel('Average Annual Income')\n",
    "plt.ylabel('Membership Status')\n",
    "\n",
    "plt.legend(title='Gender')\n",
    "\n",
    "plt.show()\n",
    "\n",
    "membership_statuses = data['MembershipStatus'].unique()\n",
    "\n",
    "for status in membership_statuses:\n",
    "    group_male = data[(data['MembershipStatus'] == status) & (data['Gender'] == 'Male')]['AnnualIncome']\n",
    "    group_female = data[(data['MembershipStatus'] == status) & (data['Gender'] == 'Female')]['AnnualIncome']\n",
    "    \n",
    "    if len(group_male) < 30 and len(group_female) < 30:\n",
    "        z_stat, p_value = ztest(group_male, group_female)\n",
    "        print(f\"Membership Status: {status}\")\n",
    "        print(f\"Z-Test:{z_stat}, P-Value:{p_value}\")\n",
    "    \n",
    "        if p_value < 0.05:\n",
    "            print(\"There is a significant difference in income between males and females.\")\n",
    "        else:\n",
    "            print(\"There is no significant difference in income between males and females.\")"
   ]
  },
  {
   "cell_type": "code",
   "execution_count": null,
   "id": "3590ab93",
   "metadata": {},
   "outputs": [],
   "source": []
  }
 ],
 "metadata": {
  "kernelspec": {
   "display_name": "Python 3 (ipykernel)",
   "language": "python",
   "name": "python3"
  },
  "language_info": {
   "codemirror_mode": {
    "name": "ipython",
    "version": 3
   },
   "file_extension": ".py",
   "mimetype": "text/x-python",
   "name": "python",
   "nbconvert_exporter": "python",
   "pygments_lexer": "ipython3",
   "version": "3.8.10"
  },
  "latex_envs": {
   "LaTeX_envs_menu_present": true,
   "autoclose": false,
   "autocomplete": true,
   "bibliofile": "biblio.bib",
   "cite_by": "apalike",
   "current_citInitial": 1,
   "eqLabelWithNumbers": true,
   "eqNumInitial": 1,
   "hotkeys": {
    "equation": "Ctrl-E",
    "itemize": "Ctrl-I"
   },
   "labels_anchors": false,
   "latex_user_defs": false,
   "report_style_numbering": false,
   "user_envs_cfg": false
  },
  "toc": {
   "base_numbering": 1,
   "nav_menu": {},
   "number_sections": true,
   "sideBar": true,
   "skip_h1_title": false,
   "title_cell": "Table of Contents",
   "title_sidebar": "Contents",
   "toc_cell": false,
   "toc_position": {},
   "toc_section_display": true,
   "toc_window_display": false
  }
 },
 "nbformat": 4,
 "nbformat_minor": 5
}
